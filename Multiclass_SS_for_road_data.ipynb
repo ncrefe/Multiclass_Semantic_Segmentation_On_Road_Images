{
  "cells": [
    {
      "cell_type": "markdown",
      "metadata": {
        "id": "SscH4lze36iJ"
      },
      "source": [
        "## **Homework-3: Multiclass semantic segmentation on road images**"
      ]
    },
    {
      "cell_type": "markdown",
      "metadata": {
        "id": "TuhE1X1Xgo8h"
      },
      "source": [
        "\n",
        "* You will be using the dataset given as attachment (12 MB). Dataset has 265 images and same number of mask images (160x120 resolution). Mask images contain class ID for each pixel at the last (third) channel"
      ]
    },
    {
      "cell_type": "code",
      "execution_count": 1,
      "metadata": {
        "id": "zW-IdHfAa2f6"
      },
      "outputs": [],
      "source": [
        "import os\n",
        "import glob\n",
        "import cv2\n",
        "import numpy as np\n",
        "from matplotlib import pyplot as plt"
      ]
    },
    {
      "cell_type": "code",
      "execution_count": 2,
      "metadata": {
        "colab": {
          "base_uri": "https://localhost:8080/"
        },
        "id": "5O602I73OAdn",
        "outputId": "93d81336-d028-48c4-93a2-6d32efd505e7"
      },
      "outputs": [
        {
          "name": "stdout",
          "output_type": "stream",
          "text": [
            "Drive already mounted at /content/drive; to attempt to forcibly remount, call drive.mount(\"/content/drive\", force_remount=True).\n"
          ]
        }
      ],
      "source": [
        "from google.colab import drive\n",
        "drive.mount('/content/drive')"
      ]
    },
    {
      "cell_type": "code",
      "execution_count": 3,
      "metadata": {
        "id": "Oziw22lDaCGj"
      },
      "outputs": [],
      "source": [
        "image_names = glob.glob(\"/content/drive/MyDrive/Datasets/CameraRGB160x120/*\")"
      ]
    },
    {
      "cell_type": "code",
      "execution_count": 4,
      "metadata": {
        "id": "a2tG4Xh5aVy2"
      },
      "outputs": [],
      "source": [
        "#Resizing images, because UNet does not work without resizing\n",
        "SIZE_X = 128\n",
        "SIZE_Y = 128"
      ]
    },
    {
      "cell_type": "code",
      "execution_count": 5,
      "metadata": {
        "id": "2be9Q-GzaCJA"
      },
      "outputs": [],
      "source": [
        "#after sorting we will read  num_images  no of images\n",
        "num_images = len(image_names)\n",
        "\n",
        "image_names.sort()\n",
        "images = [cv2.imread(image, 1) for image in image_names]\n",
        "images = [cv2.resize(image, (SIZE_X, SIZE_Y)) for image in images]\n",
        "\n",
        "image_dataset = np.array(images)"
      ]
    },
    {
      "cell_type": "code",
      "execution_count": 6,
      "metadata": {
        "id": "gzuyUTfkaCLR"
      },
      "outputs": [],
      "source": [
        "mask_names = glob.glob(\"/content/drive/MyDrive/Datasets/CameraMask160x120/*\")\n",
        "mask_names.sort()\n",
        "\n",
        "masks = [cv2.imread(mask, 1)[:, :, 2] for mask in mask_names]\n",
        "masks = [cv2.resize(mask, (SIZE_X, SIZE_Y), interpolation=cv2.INTER_NEAREST) for mask in masks]\n",
        "\n",
        "mask_dataset = np.array(masks)"
      ]
    },
    {
      "cell_type": "code",
      "execution_count": 7,
      "metadata": {
        "id": "KqwcPpjgaCNl"
      },
      "outputs": [],
      "source": [
        "n_classes = np.max(mask_dataset)"
      ]
    },
    {
      "cell_type": "code",
      "execution_count": 8,
      "metadata": {
        "colab": {
          "base_uri": "https://localhost:8080/"
        },
        "id": "wi_z2EnQbSAn",
        "outputId": "8234ca98-3ec3-425d-e5e4-b109388dc482"
      },
      "outputs": [
        {
          "name": "stdout",
          "output_type": "stream",
          "text": [
            "Image data shape is:  (265, 128, 128, 3)\n",
            "Mask data shape is:  (265, 128, 128)\n",
            "Max pixel value in image is:  255\n",
            "Labels in the mask are :  [ 1  2  3  4  5  6  7  8  9 10 11 12 13 14 15 16 17 18 19 20 21 22]\n",
            "Number of classes :  22\n"
          ]
        }
      ],
      "source": [
        "print(\"Image data shape is: \", image_dataset.shape)\n",
        "print(\"Mask data shape is: \", mask_dataset.shape)\n",
        "print(\"Max pixel value in image is: \", image_dataset.max())\n",
        "print(\"Labels in the mask are : \", np.unique(mask_dataset))\n",
        "print(\"Number of classes : \", n_classes)"
      ]
    },
    {
      "cell_type": "code",
      "execution_count": 9,
      "metadata": {
        "colab": {
          "base_uri": "https://localhost:8080/"
        },
        "id": "hAIbOuYObSDD",
        "outputId": "15d03272-182f-4777-b4ad-7d220d2ea2b0"
      },
      "outputs": [
        {
          "name": "stderr",
          "output_type": "stream",
          "text": [
            "/usr/local/lib/python3.10/dist-packages/sklearn/preprocessing/_label.py:116: DataConversionWarning: A column-vector y was passed when a 1d array was expected. Please change the shape of y to (n_samples, ), for example using ravel().\n",
            "  y = column_or_1d(y, warn=True)\n"
          ]
        }
      ],
      "source": [
        "# Encode labels to 0, 1, 2, 3, ... but multi dim array so need to flatten, encode and reshape\n",
        "from sklearn.preprocessing import LabelEncoder\n",
        "\n",
        "labelencoder = LabelEncoder()\n",
        "n, h, w = mask_dataset.shape\n",
        "mask_dataset_reshaped = mask_dataset.reshape(-1,1)\n",
        "mask_dataset_reshaped_encoded = labelencoder.fit_transform(mask_dataset_reshaped)\n",
        "mask_dataset_encoded = mask_dataset_reshaped_encoded.reshape(n, h, w)"
      ]
    },
    {
      "cell_type": "code",
      "execution_count": 10,
      "metadata": {
        "colab": {
          "base_uri": "https://localhost:8080/"
        },
        "id": "UjLAyvv8bSFg",
        "outputId": "d3b8a188-950d-49b7-ffb1-ae71fae1a89f"
      },
      "outputs": [
        {
          "name": "stdout",
          "output_type": "stream",
          "text": [
            "Now the labels in the mask are :  [ 0  1  2  3  4  5  6  7  8  9 10 11 12 13 14 15 16 17 18 19 20 21]\n"
          ]
        }
      ],
      "source": [
        "# after label encoding\n",
        "print(\"Now the labels in the mask are : \", np.unique(mask_dataset_encoded))"
      ]
    },
    {
      "cell_type": "code",
      "execution_count": 11,
      "metadata": {
        "colab": {
          "base_uri": "https://localhost:8080/"
        },
        "id": "SPwWf1uPbSH3",
        "outputId": "9374a156-d91e-436c-f83d-d4cff157d10d"
      },
      "outputs": [
        {
          "name": "stdout",
          "output_type": "stream",
          "text": [
            "(265, 128, 128, 1)\n"
          ]
        }
      ],
      "source": [
        "# to match the size of the mask dataset with image dataset\n",
        "mask_dataset_encoded = np.expand_dims(mask_dataset_encoded, axis = 3)\n",
        "print(mask_dataset_encoded.shape)"
      ]
    },
    {
      "cell_type": "code",
      "execution_count": 12,
      "metadata": {
        "id": "Jwt0E39CbSKI"
      },
      "outputs": [],
      "source": [
        "# Normalize images\n",
        "image_dataset = image_dataset / 255."
      ]
    },
    {
      "cell_type": "code",
      "execution_count": 13,
      "metadata": {
        "id": "Mxqf7nHQbrpJ"
      },
      "outputs": [],
      "source": [
        "# Split training data\n",
        "from sklearn.model_selection import train_test_split\n",
        "\n",
        "X_train, X_test, y_train, y_test = train_test_split(image_dataset, mask_dataset_encoded, test_size = 0.2, random_state = 42)"
      ]
    },
    {
      "cell_type": "code",
      "execution_count": 14,
      "metadata": {
        "colab": {
          "base_uri": "https://localhost:8080/"
        },
        "id": "GYPD8W0Nbrra",
        "outputId": "1f958d5c-da52-4f50-c02a-f55fc178912a"
      },
      "outputs": [
        {
          "name": "stdout",
          "output_type": "stream",
          "text": [
            "(212, 128, 128, 22)\n",
            "(53, 128, 128, 22)\n"
          ]
        }
      ],
      "source": [
        "from tensorflow.keras.utils import to_categorical\n",
        "\n",
        "train_masks_cat = to_categorical(y_train, num_classes=n_classes)\n",
        "y_train_cat = train_masks_cat.reshape((y_train.shape[0], y_train.shape[1], y_train.shape[2], n_classes))\n",
        "\n",
        "test_masks_cat = to_categorical(y_test, num_classes=n_classes)\n",
        "y_test_cat = test_masks_cat.reshape((y_test.shape[0], y_test.shape[1], y_test.shape[2], n_classes))\n",
        "\n",
        "print(y_train_cat.shape)\n",
        "print(y_test_cat.shape)"
      ]
    },
    {
      "cell_type": "code",
      "execution_count": 15,
      "metadata": {
        "id": "dPaHZqVDbrtu"
      },
      "outputs": [],
      "source": [
        "# Building Unet by dividing encoder and decoder into blocks\n",
        "\n",
        "from keras.models import Model\n",
        "from keras.layers import Input, Conv2D, MaxPooling2D, UpSampling2D, concatenate, Conv2DTranspose, BatchNormalization, Dropout, Lambda\n",
        "from keras.optimizers import Adam\n",
        "from keras.layers import Activation, MaxPool2D, Concatenate\n",
        "\n",
        "# Batch normalization can be used within a UNet to facilitate faster and more stable\n",
        "# learning by normalizing activations at each layer, which helps maintain consistent gradients.\n",
        "def conv_block(input, num_filters):\n",
        "    x = Conv2D(num_filters, 3, padding=\"same\")(input)\n",
        "    x = BatchNormalization()(x)\n",
        "    x = Activation(\"relu\")(x)\n",
        "\n",
        "    x = Conv2D(num_filters, 3, padding=\"same\")(x)\n",
        "    x = BatchNormalization()(x)\n",
        "    x = Activation(\"relu\")(x)\n",
        "\n",
        "    return x\n",
        "\n",
        "# Encoder block: Conv block followed by maxpooling\n",
        "def encoder_block(input, num_filters):\n",
        "    x = conv_block(input, num_filters)\n",
        "    p = MaxPool2D((2, 2))(x)\n",
        "    return x, p\n",
        "\n",
        "# Decoder block\n",
        "# skip features gets input from encoder for concatenation\n",
        "def decoder_block(input, skip_features, num_filters):\n",
        "    x = Conv2DTranspose(num_filters, (2, 2), strides=2, padding=\"same\")(input)\n",
        "    x = Concatenate()([x, skip_features])\n",
        "    x = conv_block(x, num_filters)\n",
        "    return x\n",
        "\n",
        "# Build Unet using the blocks\n",
        "def build_unet(input_shape, n_classes):\n",
        "    inputs = Input(input_shape)\n",
        "\n",
        "    s1, p1 = encoder_block(inputs, 64)\n",
        "    s2, p2 = encoder_block(p1, 128)\n",
        "    s3, p3 = encoder_block(p2, 256)\n",
        "    s4, p4 = encoder_block(p3, 512)\n",
        "\n",
        "    b1 = conv_block(p4, 1024) # Bridge\n",
        "\n",
        "    d1 = decoder_block(b1, s4, 512)\n",
        "    d2 = decoder_block(d1, s3, 256)\n",
        "    d3 = decoder_block(d2, s2, 128)\n",
        "    d4 = decoder_block(d3, s1, 64)\n",
        "\n",
        "    activation = 'softmax'\n",
        "\n",
        "    outputs = Conv2D(n_classes, 1, padding=\"same\", activation=activation)(d4)  # activation is softmax based on n_classes\n",
        "    print(activation)\n",
        "\n",
        "    model = Model(inputs, outputs, name=\"U-Net\")\n",
        "    return model"
      ]
    },
    {
      "cell_type": "code",
      "execution_count": 16,
      "metadata": {
        "colab": {
          "base_uri": "https://localhost:8080/"
        },
        "id": "vlQr9Kslbrvz",
        "outputId": "8b1a544c-2d3c-4409-f1db-a1c03baf40f2"
      },
      "outputs": [
        {
          "name": "stdout",
          "output_type": "stream",
          "text": [
            "(128, 128, 3)\n"
          ]
        }
      ],
      "source": [
        "IMG_HEIGHT = X_train.shape[1]\n",
        "IMG_WIDTH  = X_train.shape[2]\n",
        "IMG_CHANNELS = X_train.shape[3]\n",
        "input_shape = (IMG_HEIGHT, IMG_WIDTH, IMG_CHANNELS)\n",
        "print(input_shape)"
      ]
    },
    {
      "cell_type": "code",
      "execution_count": 17,
      "metadata": {
        "colab": {
          "base_uri": "https://localhost:8080/"
        },
        "id": "KCHwWQ94bryF",
        "outputId": "921f9ba6-b913-4a3c-c442-0d534f38e0ba"
      },
      "outputs": [
        {
          "name": "stdout",
          "output_type": "stream",
          "text": [
            "softmax\n",
            "Model: \"U-Net\"\n",
            "__________________________________________________________________________________________________\n",
            " Layer (type)                Output Shape                 Param #   Connected to                  \n",
            "==================================================================================================\n",
            " input_1 (InputLayer)        [(None, 128, 128, 3)]        0         []                            \n",
            "                                                                                                  \n",
            " conv2d (Conv2D)             (None, 128, 128, 64)         1792      ['input_1[0][0]']             \n",
            "                                                                                                  \n",
            " batch_normalization (Batch  (None, 128, 128, 64)         256       ['conv2d[0][0]']              \n",
            " Normalization)                                                                                   \n",
            "                                                                                                  \n",
            " activation (Activation)     (None, 128, 128, 64)         0         ['batch_normalization[0][0]'] \n",
            "                                                                                                  \n",
            " conv2d_1 (Conv2D)           (None, 128, 128, 64)         36928     ['activation[0][0]']          \n",
            "                                                                                                  \n",
            " batch_normalization_1 (Bat  (None, 128, 128, 64)         256       ['conv2d_1[0][0]']            \n",
            " chNormalization)                                                                                 \n",
            "                                                                                                  \n",
            " activation_1 (Activation)   (None, 128, 128, 64)         0         ['batch_normalization_1[0][0]'\n",
            "                                                                    ]                             \n",
            "                                                                                                  \n",
            " max_pooling2d (MaxPooling2  (None, 64, 64, 64)           0         ['activation_1[0][0]']        \n",
            " D)                                                                                               \n",
            "                                                                                                  \n",
            " conv2d_2 (Conv2D)           (None, 64, 64, 128)          73856     ['max_pooling2d[0][0]']       \n",
            "                                                                                                  \n",
            " batch_normalization_2 (Bat  (None, 64, 64, 128)          512       ['conv2d_2[0][0]']            \n",
            " chNormalization)                                                                                 \n",
            "                                                                                                  \n",
            " activation_2 (Activation)   (None, 64, 64, 128)          0         ['batch_normalization_2[0][0]'\n",
            "                                                                    ]                             \n",
            "                                                                                                  \n",
            " conv2d_3 (Conv2D)           (None, 64, 64, 128)          147584    ['activation_2[0][0]']        \n",
            "                                                                                                  \n",
            " batch_normalization_3 (Bat  (None, 64, 64, 128)          512       ['conv2d_3[0][0]']            \n",
            " chNormalization)                                                                                 \n",
            "                                                                                                  \n",
            " activation_3 (Activation)   (None, 64, 64, 128)          0         ['batch_normalization_3[0][0]'\n",
            "                                                                    ]                             \n",
            "                                                                                                  \n",
            " max_pooling2d_1 (MaxPoolin  (None, 32, 32, 128)          0         ['activation_3[0][0]']        \n",
            " g2D)                                                                                             \n",
            "                                                                                                  \n",
            " conv2d_4 (Conv2D)           (None, 32, 32, 256)          295168    ['max_pooling2d_1[0][0]']     \n",
            "                                                                                                  \n",
            " batch_normalization_4 (Bat  (None, 32, 32, 256)          1024      ['conv2d_4[0][0]']            \n",
            " chNormalization)                                                                                 \n",
            "                                                                                                  \n",
            " activation_4 (Activation)   (None, 32, 32, 256)          0         ['batch_normalization_4[0][0]'\n",
            "                                                                    ]                             \n",
            "                                                                                                  \n",
            " conv2d_5 (Conv2D)           (None, 32, 32, 256)          590080    ['activation_4[0][0]']        \n",
            "                                                                                                  \n",
            " batch_normalization_5 (Bat  (None, 32, 32, 256)          1024      ['conv2d_5[0][0]']            \n",
            " chNormalization)                                                                                 \n",
            "                                                                                                  \n",
            " activation_5 (Activation)   (None, 32, 32, 256)          0         ['batch_normalization_5[0][0]'\n",
            "                                                                    ]                             \n",
            "                                                                                                  \n",
            " max_pooling2d_2 (MaxPoolin  (None, 16, 16, 256)          0         ['activation_5[0][0]']        \n",
            " g2D)                                                                                             \n",
            "                                                                                                  \n",
            " conv2d_6 (Conv2D)           (None, 16, 16, 512)          1180160   ['max_pooling2d_2[0][0]']     \n",
            "                                                                                                  \n",
            " batch_normalization_6 (Bat  (None, 16, 16, 512)          2048      ['conv2d_6[0][0]']            \n",
            " chNormalization)                                                                                 \n",
            "                                                                                                  \n",
            " activation_6 (Activation)   (None, 16, 16, 512)          0         ['batch_normalization_6[0][0]'\n",
            "                                                                    ]                             \n",
            "                                                                                                  \n",
            " conv2d_7 (Conv2D)           (None, 16, 16, 512)          2359808   ['activation_6[0][0]']        \n",
            "                                                                                                  \n",
            " batch_normalization_7 (Bat  (None, 16, 16, 512)          2048      ['conv2d_7[0][0]']            \n",
            " chNormalization)                                                                                 \n",
            "                                                                                                  \n",
            " activation_7 (Activation)   (None, 16, 16, 512)          0         ['batch_normalization_7[0][0]'\n",
            "                                                                    ]                             \n",
            "                                                                                                  \n",
            " max_pooling2d_3 (MaxPoolin  (None, 8, 8, 512)            0         ['activation_7[0][0]']        \n",
            " g2D)                                                                                             \n",
            "                                                                                                  \n",
            " conv2d_8 (Conv2D)           (None, 8, 8, 1024)           4719616   ['max_pooling2d_3[0][0]']     \n",
            "                                                                                                  \n",
            " batch_normalization_8 (Bat  (None, 8, 8, 1024)           4096      ['conv2d_8[0][0]']            \n",
            " chNormalization)                                                                                 \n",
            "                                                                                                  \n",
            " activation_8 (Activation)   (None, 8, 8, 1024)           0         ['batch_normalization_8[0][0]'\n",
            "                                                                    ]                             \n",
            "                                                                                                  \n",
            " conv2d_9 (Conv2D)           (None, 8, 8, 1024)           9438208   ['activation_8[0][0]']        \n",
            "                                                                                                  \n",
            " batch_normalization_9 (Bat  (None, 8, 8, 1024)           4096      ['conv2d_9[0][0]']            \n",
            " chNormalization)                                                                                 \n",
            "                                                                                                  \n",
            " activation_9 (Activation)   (None, 8, 8, 1024)           0         ['batch_normalization_9[0][0]'\n",
            "                                                                    ]                             \n",
            "                                                                                                  \n",
            " conv2d_transpose (Conv2DTr  (None, 16, 16, 512)          2097664   ['activation_9[0][0]']        \n",
            " anspose)                                                                                         \n",
            "                                                                                                  \n",
            " concatenate (Concatenate)   (None, 16, 16, 1024)         0         ['conv2d_transpose[0][0]',    \n",
            "                                                                     'activation_7[0][0]']        \n",
            "                                                                                                  \n",
            " conv2d_10 (Conv2D)          (None, 16, 16, 512)          4719104   ['concatenate[0][0]']         \n",
            "                                                                                                  \n",
            " batch_normalization_10 (Ba  (None, 16, 16, 512)          2048      ['conv2d_10[0][0]']           \n",
            " tchNormalization)                                                                                \n",
            "                                                                                                  \n",
            " activation_10 (Activation)  (None, 16, 16, 512)          0         ['batch_normalization_10[0][0]\n",
            "                                                                    ']                            \n",
            "                                                                                                  \n",
            " conv2d_11 (Conv2D)          (None, 16, 16, 512)          2359808   ['activation_10[0][0]']       \n",
            "                                                                                                  \n",
            " batch_normalization_11 (Ba  (None, 16, 16, 512)          2048      ['conv2d_11[0][0]']           \n",
            " tchNormalization)                                                                                \n",
            "                                                                                                  \n",
            " activation_11 (Activation)  (None, 16, 16, 512)          0         ['batch_normalization_11[0][0]\n",
            "                                                                    ']                            \n",
            "                                                                                                  \n",
            " conv2d_transpose_1 (Conv2D  (None, 32, 32, 256)          524544    ['activation_11[0][0]']       \n",
            " Transpose)                                                                                       \n",
            "                                                                                                  \n",
            " concatenate_1 (Concatenate  (None, 32, 32, 512)          0         ['conv2d_transpose_1[0][0]',  \n",
            " )                                                                   'activation_5[0][0]']        \n",
            "                                                                                                  \n",
            " conv2d_12 (Conv2D)          (None, 32, 32, 256)          1179904   ['concatenate_1[0][0]']       \n",
            "                                                                                                  \n",
            " batch_normalization_12 (Ba  (None, 32, 32, 256)          1024      ['conv2d_12[0][0]']           \n",
            " tchNormalization)                                                                                \n",
            "                                                                                                  \n",
            " activation_12 (Activation)  (None, 32, 32, 256)          0         ['batch_normalization_12[0][0]\n",
            "                                                                    ']                            \n",
            "                                                                                                  \n",
            " conv2d_13 (Conv2D)          (None, 32, 32, 256)          590080    ['activation_12[0][0]']       \n",
            "                                                                                                  \n",
            " batch_normalization_13 (Ba  (None, 32, 32, 256)          1024      ['conv2d_13[0][0]']           \n",
            " tchNormalization)                                                                                \n",
            "                                                                                                  \n",
            " activation_13 (Activation)  (None, 32, 32, 256)          0         ['batch_normalization_13[0][0]\n",
            "                                                                    ']                            \n",
            "                                                                                                  \n",
            " conv2d_transpose_2 (Conv2D  (None, 64, 64, 128)          131200    ['activation_13[0][0]']       \n",
            " Transpose)                                                                                       \n",
            "                                                                                                  \n",
            " concatenate_2 (Concatenate  (None, 64, 64, 256)          0         ['conv2d_transpose_2[0][0]',  \n",
            " )                                                                   'activation_3[0][0]']        \n",
            "                                                                                                  \n",
            " conv2d_14 (Conv2D)          (None, 64, 64, 128)          295040    ['concatenate_2[0][0]']       \n",
            "                                                                                                  \n",
            " batch_normalization_14 (Ba  (None, 64, 64, 128)          512       ['conv2d_14[0][0]']           \n",
            " tchNormalization)                                                                                \n",
            "                                                                                                  \n",
            " activation_14 (Activation)  (None, 64, 64, 128)          0         ['batch_normalization_14[0][0]\n",
            "                                                                    ']                            \n",
            "                                                                                                  \n",
            " conv2d_15 (Conv2D)          (None, 64, 64, 128)          147584    ['activation_14[0][0]']       \n",
            "                                                                                                  \n",
            " batch_normalization_15 (Ba  (None, 64, 64, 128)          512       ['conv2d_15[0][0]']           \n",
            " tchNormalization)                                                                                \n",
            "                                                                                                  \n",
            " activation_15 (Activation)  (None, 64, 64, 128)          0         ['batch_normalization_15[0][0]\n",
            "                                                                    ']                            \n",
            "                                                                                                  \n",
            " conv2d_transpose_3 (Conv2D  (None, 128, 128, 64)         32832     ['activation_15[0][0]']       \n",
            " Transpose)                                                                                       \n",
            "                                                                                                  \n",
            " concatenate_3 (Concatenate  (None, 128, 128, 128)        0         ['conv2d_transpose_3[0][0]',  \n",
            " )                                                                   'activation_1[0][0]']        \n",
            "                                                                                                  \n",
            " conv2d_16 (Conv2D)          (None, 128, 128, 64)         73792     ['concatenate_3[0][0]']       \n",
            "                                                                                                  \n",
            " batch_normalization_16 (Ba  (None, 128, 128, 64)         256       ['conv2d_16[0][0]']           \n",
            " tchNormalization)                                                                                \n",
            "                                                                                                  \n",
            " activation_16 (Activation)  (None, 128, 128, 64)         0         ['batch_normalization_16[0][0]\n",
            "                                                                    ']                            \n",
            "                                                                                                  \n",
            " conv2d_17 (Conv2D)          (None, 128, 128, 64)         36928     ['activation_16[0][0]']       \n",
            "                                                                                                  \n",
            " batch_normalization_17 (Ba  (None, 128, 128, 64)         256       ['conv2d_17[0][0]']           \n",
            " tchNormalization)                                                                                \n",
            "                                                                                                  \n",
            " activation_17 (Activation)  (None, 128, 128, 64)         0         ['batch_normalization_17[0][0]\n",
            "                                                                    ']                            \n",
            "                                                                                                  \n",
            " conv2d_18 (Conv2D)          (None, 128, 128, 22)         1430      ['activation_17[0][0]']       \n",
            "                                                                                                  \n",
            "==================================================================================================\n",
            "Total params: 31056662 (118.47 MB)\n",
            "Trainable params: 31044886 (118.43 MB)\n",
            "Non-trainable params: 11776 (46.00 KB)\n",
            "__________________________________________________________________________________________________\n"
          ]
        }
      ],
      "source": [
        "model = build_unet(input_shape, n_classes)\n",
        "model.compile(optimizer='adam', loss='categorical_crossentropy', metrics=['accuracy'])\n",
        "model.summary()"
      ]
    },
    {
      "cell_type": "code",
      "execution_count": 18,
      "metadata": {
        "colab": {
          "base_uri": "https://localhost:8080/"
        },
        "id": "AKxxGzlEbr0S",
        "outputId": "bab82c12-f4a8-4b0f-fac2-b900f33dea49"
      },
      "outputs": [
        {
          "name": "stdout",
          "output_type": "stream",
          "text": [
            "Epoch 1/60\n",
            "14/14 [==============================] - 52s 1s/step - loss: 1.3963 - accuracy: 0.7078 - val_loss: 5.3068 - val_accuracy: 0.1334\n",
            "Epoch 2/60\n",
            "14/14 [==============================] - 3s 238ms/step - loss: 0.6348 - accuracy: 0.8619 - val_loss: 22.1395 - val_accuracy: 0.0897\n",
            "Epoch 3/60\n",
            "14/14 [==============================] - 3s 240ms/step - loss: 0.5018 - accuracy: 0.8768 - val_loss: 5.9818 - val_accuracy: 0.1909\n",
            "Epoch 4/60\n",
            "14/14 [==============================] - 3s 238ms/step - loss: 0.4598 - accuracy: 0.8810 - val_loss: 1.9588 - val_accuracy: 0.6079\n",
            "Epoch 5/60\n",
            "14/14 [==============================] - 3s 246ms/step - loss: 0.4048 - accuracy: 0.8898 - val_loss: 1.5294 - val_accuracy: 0.6917\n",
            "Epoch 6/60\n",
            "14/14 [==============================] - 3s 237ms/step - loss: 0.3594 - accuracy: 0.9007 - val_loss: 2.0818 - val_accuracy: 0.6027\n",
            "Epoch 7/60\n",
            "14/14 [==============================] - 3s 239ms/step - loss: 0.3313 - accuracy: 0.9054 - val_loss: 1.8841 - val_accuracy: 0.6421\n",
            "Epoch 8/60\n",
            "14/14 [==============================] - 3s 239ms/step - loss: 0.2999 - accuracy: 0.9149 - val_loss: 1.7597 - val_accuracy: 0.6647\n",
            "Epoch 9/60\n",
            "14/14 [==============================] - 3s 245ms/step - loss: 0.2703 - accuracy: 0.9244 - val_loss: 1.7235 - val_accuracy: 0.6626\n",
            "Epoch 10/60\n",
            "14/14 [==============================] - 3s 241ms/step - loss: 0.2637 - accuracy: 0.9257 - val_loss: 1.8254 - val_accuracy: 0.6525\n",
            "Epoch 11/60\n",
            "14/14 [==============================] - 3s 241ms/step - loss: 0.2569 - accuracy: 0.9271 - val_loss: 2.2813 - val_accuracy: 0.5824\n",
            "Epoch 12/60\n",
            "14/14 [==============================] - 3s 238ms/step - loss: 0.2326 - accuracy: 0.9341 - val_loss: 2.4176 - val_accuracy: 0.5823\n",
            "Epoch 13/60\n",
            "14/14 [==============================] - 3s 248ms/step - loss: 0.2162 - accuracy: 0.9391 - val_loss: 2.5040 - val_accuracy: 0.5734\n",
            "Epoch 14/60\n",
            "14/14 [==============================] - 3s 239ms/step - loss: 0.2063 - accuracy: 0.9413 - val_loss: 2.3683 - val_accuracy: 0.5716\n",
            "Epoch 15/60\n",
            "14/14 [==============================] - 3s 242ms/step - loss: 0.2137 - accuracy: 0.9379 - val_loss: 2.5155 - val_accuracy: 0.5616\n",
            "Epoch 16/60\n",
            "14/14 [==============================] - 3s 239ms/step - loss: 0.1995 - accuracy: 0.9420 - val_loss: 2.5568 - val_accuracy: 0.5776\n",
            "Epoch 17/60\n",
            "14/14 [==============================] - 3s 248ms/step - loss: 0.1911 - accuracy: 0.9439 - val_loss: 2.3583 - val_accuracy: 0.5857\n",
            "Epoch 18/60\n",
            "14/14 [==============================] - 3s 244ms/step - loss: 0.1789 - accuracy: 0.9479 - val_loss: 2.6943 - val_accuracy: 0.5452\n",
            "Epoch 19/60\n",
            "14/14 [==============================] - 3s 243ms/step - loss: 0.1750 - accuracy: 0.9489 - val_loss: 2.4069 - val_accuracy: 0.5494\n",
            "Epoch 20/60\n",
            "14/14 [==============================] - 3s 245ms/step - loss: 0.1695 - accuracy: 0.9503 - val_loss: 2.5772 - val_accuracy: 0.5596\n",
            "Epoch 21/60\n",
            "14/14 [==============================] - 4s 252ms/step - loss: 0.1711 - accuracy: 0.9495 - val_loss: 2.6769 - val_accuracy: 0.5659\n",
            "Epoch 22/60\n",
            "14/14 [==============================] - 3s 245ms/step - loss: 0.1629 - accuracy: 0.9524 - val_loss: 2.7148 - val_accuracy: 0.5690\n",
            "Epoch 23/60\n",
            "14/14 [==============================] - 3s 246ms/step - loss: 0.1555 - accuracy: 0.9550 - val_loss: 2.9393 - val_accuracy: 0.5170\n",
            "Epoch 24/60\n",
            "14/14 [==============================] - 3s 245ms/step - loss: 0.1441 - accuracy: 0.9574 - val_loss: 2.6328 - val_accuracy: 0.5505\n",
            "Epoch 25/60\n",
            "14/14 [==============================] - 3s 250ms/step - loss: 0.1364 - accuracy: 0.9601 - val_loss: 2.7258 - val_accuracy: 0.5377\n",
            "Epoch 26/60\n",
            "14/14 [==============================] - 3s 245ms/step - loss: 0.1291 - accuracy: 0.9621 - val_loss: 2.5663 - val_accuracy: 0.5456\n",
            "Epoch 27/60\n",
            "14/14 [==============================] - 3s 243ms/step - loss: 0.1258 - accuracy: 0.9628 - val_loss: 2.5986 - val_accuracy: 0.5309\n",
            "Epoch 28/60\n",
            "14/14 [==============================] - 3s 250ms/step - loss: 0.1230 - accuracy: 0.9633 - val_loss: 2.3666 - val_accuracy: 0.5469\n",
            "Epoch 29/60\n",
            "14/14 [==============================] - 4s 255ms/step - loss: 0.1198 - accuracy: 0.9641 - val_loss: 2.3510 - val_accuracy: 0.5388\n",
            "Epoch 30/60\n",
            "14/14 [==============================] - 3s 248ms/step - loss: 0.1201 - accuracy: 0.9637 - val_loss: 1.9322 - val_accuracy: 0.5891\n",
            "Epoch 31/60\n",
            "14/14 [==============================] - 4s 261ms/step - loss: 0.1173 - accuracy: 0.9646 - val_loss: 1.6667 - val_accuracy: 0.6377\n",
            "Epoch 32/60\n",
            "14/14 [==============================] - 4s 294ms/step - loss: 0.1147 - accuracy: 0.9653 - val_loss: 0.9953 - val_accuracy: 0.7572\n",
            "Epoch 33/60\n",
            "14/14 [==============================] - 4s 271ms/step - loss: 0.1115 - accuracy: 0.9664 - val_loss: 1.1882 - val_accuracy: 0.7346\n",
            "Epoch 34/60\n",
            "14/14 [==============================] - 4s 259ms/step - loss: 0.1064 - accuracy: 0.9677 - val_loss: 1.1395 - val_accuracy: 0.7399\n",
            "Epoch 35/60\n",
            "14/14 [==============================] - 4s 259ms/step - loss: 0.1019 - accuracy: 0.9690 - val_loss: 1.1587 - val_accuracy: 0.7412\n",
            "Epoch 36/60\n",
            "14/14 [==============================] - 4s 251ms/step - loss: 0.0991 - accuracy: 0.9697 - val_loss: 1.0498 - val_accuracy: 0.7498\n",
            "Epoch 37/60\n",
            "14/14 [==============================] - 4s 254ms/step - loss: 0.0958 - accuracy: 0.9706 - val_loss: 1.1315 - val_accuracy: 0.7319\n",
            "Epoch 38/60\n",
            "14/14 [==============================] - 3s 249ms/step - loss: 0.0935 - accuracy: 0.9711 - val_loss: 0.7410 - val_accuracy: 0.8171\n",
            "Epoch 39/60\n",
            "14/14 [==============================] - 3s 247ms/step - loss: 0.0951 - accuracy: 0.9706 - val_loss: 0.7896 - val_accuracy: 0.8050\n",
            "Epoch 40/60\n",
            "14/14 [==============================] - 3s 250ms/step - loss: 0.0927 - accuracy: 0.9712 - val_loss: 0.5451 - val_accuracy: 0.8599\n",
            "Epoch 41/60\n",
            "14/14 [==============================] - 4s 284ms/step - loss: 0.0899 - accuracy: 0.9720 - val_loss: 0.6235 - val_accuracy: 0.8400\n",
            "Epoch 42/60\n",
            "14/14 [==============================] - 3s 250ms/step - loss: 0.0873 - accuracy: 0.9727 - val_loss: 0.3865 - val_accuracy: 0.8902\n",
            "Epoch 43/60\n",
            "14/14 [==============================] - 3s 247ms/step - loss: 0.0874 - accuracy: 0.9727 - val_loss: 0.3864 - val_accuracy: 0.8922\n",
            "Epoch 44/60\n",
            "14/14 [==============================] - 3s 250ms/step - loss: 0.0877 - accuracy: 0.9726 - val_loss: 0.4452 - val_accuracy: 0.8868\n",
            "Epoch 45/60\n",
            "14/14 [==============================] - 4s 252ms/step - loss: 0.0857 - accuracy: 0.9730 - val_loss: 0.2175 - val_accuracy: 0.9373\n",
            "Epoch 46/60\n",
            "14/14 [==============================] - 3s 246ms/step - loss: 0.0815 - accuracy: 0.9741 - val_loss: 0.2337 - val_accuracy: 0.9341\n",
            "Epoch 47/60\n",
            "14/14 [==============================] - 3s 248ms/step - loss: 0.0795 - accuracy: 0.9748 - val_loss: 0.2187 - val_accuracy: 0.9378\n",
            "Epoch 48/60\n",
            "14/14 [==============================] - 4s 252ms/step - loss: 0.0803 - accuracy: 0.9743 - val_loss: 0.2027 - val_accuracy: 0.9416\n",
            "Epoch 49/60\n",
            "14/14 [==============================] - 3s 251ms/step - loss: 0.0786 - accuracy: 0.9750 - val_loss: 0.2106 - val_accuracy: 0.9401\n",
            "Epoch 50/60\n",
            "14/14 [==============================] - 3s 247ms/step - loss: 0.0765 - accuracy: 0.9755 - val_loss: 0.1902 - val_accuracy: 0.9438\n",
            "Epoch 51/60\n",
            "14/14 [==============================] - 3s 251ms/step - loss: 0.0754 - accuracy: 0.9758 - val_loss: 0.1965 - val_accuracy: 0.9433\n",
            "Epoch 52/60\n",
            "14/14 [==============================] - 3s 248ms/step - loss: 0.0721 - accuracy: 0.9768 - val_loss: 0.1589 - val_accuracy: 0.9531\n",
            "Epoch 53/60\n",
            "14/14 [==============================] - 4s 254ms/step - loss: 0.0698 - accuracy: 0.9775 - val_loss: 0.1384 - val_accuracy: 0.9593\n",
            "Epoch 54/60\n",
            "14/14 [==============================] - 4s 252ms/step - loss: 0.0682 - accuracy: 0.9781 - val_loss: 0.1427 - val_accuracy: 0.9596\n",
            "Epoch 55/60\n",
            "14/14 [==============================] - 3s 250ms/step - loss: 0.0653 - accuracy: 0.9789 - val_loss: 0.1285 - val_accuracy: 0.9630\n",
            "Epoch 56/60\n",
            "14/14 [==============================] - 4s 251ms/step - loss: 0.0674 - accuracy: 0.9782 - val_loss: 0.1237 - val_accuracy: 0.9650\n",
            "Epoch 57/60\n",
            "14/14 [==============================] - 4s 251ms/step - loss: 0.0659 - accuracy: 0.9787 - val_loss: 0.1424 - val_accuracy: 0.9593\n",
            "Epoch 58/60\n",
            "14/14 [==============================] - 4s 251ms/step - loss: 0.0651 - accuracy: 0.9786 - val_loss: 0.1304 - val_accuracy: 0.9622\n",
            "Epoch 59/60\n",
            "14/14 [==============================] - 3s 250ms/step - loss: 0.0619 - accuracy: 0.9798 - val_loss: 0.1150 - val_accuracy: 0.9669\n",
            "Epoch 60/60\n",
            "14/14 [==============================] - 4s 252ms/step - loss: 0.0602 - accuracy: 0.9802 - val_loss: 0.1335 - val_accuracy: 0.9600\n"
          ]
        }
      ],
      "source": [
        "# Training the model using the training data (X_train, y_train_cat)\n",
        "# - batch_size: 16, meaning the model will update weights after processing every 16 samples\n",
        "# - verbose: 1, to print progress updates during training\n",
        "# - epochs: 50, the model will iterate over the entire training dataset 50 times\n",
        "# - validation_data: (X_test, y_test_cat), using test data for validation after each epoch\n",
        "# - shuffle: False, the training data will not be shuffled before each epoch\n",
        "\n",
        "history = model.fit(X_train, y_train_cat,\n",
        "                    batch_size = 16,\n",
        "                    verbose=1,\n",
        "                    epochs=60,\n",
        "                    validation_data=(X_test, y_test_cat),\n",
        "                    shuffle=False)"
      ]
    },
    {
      "cell_type": "code",
      "execution_count": 19,
      "metadata": {
        "colab": {
          "base_uri": "https://localhost:8080/"
        },
        "id": "eS3p2U5Tbr2y",
        "outputId": "44223a16-0997-4955-f1fc-53411f2c065a"
      },
      "outputs": [
        {
          "name": "stderr",
          "output_type": "stream",
          "text": [
            "/usr/local/lib/python3.10/dist-packages/keras/src/engine/training.py:3103: UserWarning: You are saving your model as an HDF5 file via `model.save()`. This file format is considered legacy. We recommend using instead the native Keras format, e.g. `model.save('my_model.keras')`.\n",
            "  saving_api.save_model(\n"
          ]
        }
      ],
      "source": [
        "# Save the model for future use because 60 epochs takes long time to retrain for testing\n",
        "# model.save('/content/drive/MyDrive/Colab Notebooks/saved_models/multiclass_ss.hdf5')"
      ]
    },
    {
      "cell_type": "code",
      "execution_count": 20,
      "metadata": {
        "id": "LqQCPdGMbr7a"
      },
      "outputs": [],
      "source": [
        "# Load previously saved model (Optional)\n",
        "# from keras.models import load_model\n",
        "# model = load_model(\"/content/drive/MyDrive/Colab Notebooks/saved_models/multiclass_ss.hdf5\", compile=False)"
      ]
    },
    {
      "cell_type": "code",
      "execution_count": 21,
      "metadata": {
        "colab": {
          "base_uri": "https://localhost:8080/",
          "height": 927
        },
        "id": "Et5IOLU-br5H",
        "outputId": "90402385-83f7-41c7-8461-fda68e4f6f8c"
      },
      "outputs": [
        {
          "data": {
            "image/png": "[encoded data removed]",
            "text/plain": [
              "<Figure size 640x480 with 1 Axes>"
            ]
          },
          "metadata": {},
          "output_type": "display_data"
        },
        {
          "data": {
            "image/png": "[encoded data removed]",
            "text/plain": [
              "<Figure size 640x480 with 1 Axes>"
            ]
          },
          "metadata": {},
          "output_type": "display_data"
        }
      ],
      "source": [
        "# plot the training and validation accuracy and loss at each epoch\n",
        "\n",
        "loss = history.history['loss']\n",
        "val_loss = history.history['val_loss']\n",
        "epochs = range(1, len(loss) + 1)\n",
        "plt.plot(epochs, loss, 'y', label='Training loss')\n",
        "plt.plot(epochs, val_loss, 'r', label='Validation loss')\n",
        "plt.title('Training and validation loss')\n",
        "plt.xlabel('Epochs')\n",
        "plt.ylabel('Loss')\n",
        "plt.legend()\n",
        "plt.show()\n",
        "\n",
        "acc = history.history['accuracy']\n",
        "val_acc = history.history['val_accuracy']\n",
        "\n",
        "plt.plot(epochs, acc, 'y', label='Training Accuracy')\n",
        "plt.plot(epochs, val_acc, 'r', label='Validation Accuracy')\n",
        "plt.title('Training and validation Accuracy')\n",
        "plt.xlabel('Epochs')\n",
        "plt.ylabel('Accuracy')\n",
        "plt.legend()\n",
        "plt.show()"
      ]
    },
    {
      "cell_type": "code",
      "execution_count": 22,
      "metadata": {
        "colab": {
          "base_uri": "https://localhost:8080/"
        },
        "id": "WnkGeAk9br9z",
        "outputId": "cc1fa90d-e048-472d-cb53-aadc88f3c788"
      },
      "outputs": [
        {
          "name": "stdout",
          "output_type": "stream",
          "text": [
            "2/2 [==============================] - 15s 6s/step\n"
          ]
        },
        {
          "data": {
            "text/plain": [
              "(53, 128, 128, 22)"
            ]
          },
          "execution_count": 22,
          "metadata": {},
          "output_type": "execute_result"
        }
      ],
      "source": [
        "y_pred=model.predict(X_test)\n",
        "y_pred.shape"
      ]
    },
    {
      "cell_type": "code",
      "execution_count": 23,
      "metadata": {
        "colab": {
          "base_uri": "https://localhost:8080/"
        },
        "id": "p8XGVYoibr_9",
        "outputId": "cc3f77dd-491c-4664-c17a-200c0cbad965"
      },
      "outputs": [
        {
          "data": {
            "text/plain": [
              "(53, 128, 128)"
            ]
          },
          "execution_count": 23,
          "metadata": {},
          "output_type": "execute_result"
        }
      ],
      "source": [
        "# line below selects the highest score class for every pixel and writes it to one matrix (y_pred_argmax)\n",
        "y_pred_argmax=np.argmax(y_pred, axis=3)\n",
        "y_pred_argmax.shape"
      ]
    },
    {
      "cell_type": "code",
      "execution_count": 24,
      "metadata": {
        "colab": {
          "base_uri": "https://localhost:8080/"
        },
        "id": "z-rYxnF5OAr7",
        "outputId": "18beaf08-b42d-4920-80b5-aad268723a07"
      },
      "outputs": [
        {
          "name": "stdout",
          "output_type": "stream",
          "text": [
            "[[12 12 12 12 12]\n",
            " [12 12 12 12 12]\n",
            " [12 12 12 12 12]\n",
            " [12 12 12 12 12]\n",
            " [12 12 12 12 12]]\n"
          ]
        }
      ],
      "source": [
        "print(y_pred_argmax[0,0:5,0:5])"
      ]
    },
    {
      "cell_type": "code",
      "execution_count": 25,
      "metadata": {
        "colab": {
          "base_uri": "https://localhost:8080/"
        },
        "id": "cb3v9nT4OAuu",
        "outputId": "9eef84c9-93b2-41d3-bdae-f00a48f7ee61"
      },
      "outputs": [
        {
          "name": "stdout",
          "output_type": "stream",
          "text": [
            "Mean IoU = 0.5308814\n"
          ]
        }
      ],
      "source": [
        "# Using built in keras function\n",
        "from keras.metrics import MeanIoU\n",
        "\n",
        "IOU_keras = MeanIoU(num_classes=n_classes)\n",
        "IOU_keras.update_state(y_test[:,:,:,0], y_pred_argmax)\n",
        "print(\"Mean IoU =\", IOU_keras.result().numpy())"
      ]
    },
    {
      "cell_type": "code",
      "execution_count": 26,
      "metadata": {
        "colab": {
          "base_uri": "https://localhost:8080/"
        },
        "id": "lUX3qI2STNBr",
        "outputId": "ed2213f7-de7b-4f72-8f57-7fdb9111d149"
      },
      "outputs": [
        {
          "name": "stdout",
          "output_type": "stream",
          "text": [
            "[[4.99540e+04 4.31000e+02 0.00000e+00 0.00000e+00 2.68000e+02 1.00000e+00\n",
            "  1.30000e+01 6.10000e+01 1.34500e+03 7.00000e+01 7.22000e+02 0.00000e+00\n",
            "  9.11000e+02 0.00000e+00 0.00000e+00 2.40000e+01 1.50000e+01 0.00000e+00\n",
            "  1.70000e+01 2.40000e+01 0.00000e+00 8.60000e+02]\n",
            " [1.90000e+01 2.05800e+03 0.00000e+00 0.00000e+00 5.00000e+00 7.30000e+01\n",
            "  8.30000e+01 9.00000e+01 2.04000e+02 1.50000e+01 1.50000e+01 0.00000e+00\n",
            "  3.10000e+01 0.00000e+00 1.20000e+01 1.00000e+00 7.00000e+01 1.00000e+00\n",
            "  2.00000e+00 0.00000e+00 0.00000e+00 2.63000e+02]\n",
            " [2.80000e+01 0.00000e+00 1.60000e+01 0.00000e+00 7.00000e+00 0.00000e+00\n",
            "  0.00000e+00 5.10000e+01 1.65000e+02 0.00000e+00 0.00000e+00 0.00000e+00\n",
            "  2.43000e+02 0.00000e+00 0.00000e+00 0.00000e+00 0.00000e+00 0.00000e+00\n",
            "  0.00000e+00 0.00000e+00 0.00000e+00 1.30000e+01]\n",
            " [3.00000e+00 1.10000e+01 0.00000e+00 1.00000e+00 1.10000e+01 0.00000e+00\n",
            "  7.00000e+00 1.20000e+01 3.40000e+01 4.30000e+01 3.80000e+01 0.00000e+00\n",
            "  2.00000e+00 0.00000e+00 7.00000e+00 0.00000e+00 4.00000e+00 0.00000e+00\n",
            "  0.00000e+00 0.00000e+00 0.00000e+00 3.20000e+01]\n",
            " [5.61000e+02 5.20000e+01 0.00000e+00 0.00000e+00 9.00000e+02 2.00000e+00\n",
            "  1.10000e+01 5.20000e+01 3.92000e+02 2.20000e+01 1.04000e+02 0.00000e+00\n",
            "  9.14000e+02 2.00000e+00 1.00000e+00 2.70000e+01 1.50000e+01 2.00000e+00\n",
            "  1.00000e+00 0.00000e+00 0.00000e+00 2.83000e+02]\n",
            " [0.00000e+00 0.00000e+00 0.00000e+00 0.00000e+00 0.00000e+00 8.27800e+03\n",
            "  3.13100e+03 3.56000e+02 0.00000e+00 0.00000e+00 0.00000e+00 0.00000e+00\n",
            "  0.00000e+00 3.00000e+00 0.00000e+00 0.00000e+00 5.00000e+00 0.00000e+00\n",
            "  0.00000e+00 0.00000e+00 0.00000e+00 1.00000e+00]\n",
            " [0.00000e+00 1.00000e+01 0.00000e+00 0.00000e+00 0.00000e+00 6.60000e+02\n",
            "  3.74592e+05 7.82000e+02 1.00000e+00 1.10000e+01 7.00000e+00 0.00000e+00\n",
            "  0.00000e+00 4.10000e+01 0.00000e+00 0.00000e+00 2.87000e+02 0.00000e+00\n",
            "  0.00000e+00 0.00000e+00 0.00000e+00 9.10000e+01]\n",
            " [3.00000e+00 1.50000e+01 0.00000e+00 0.00000e+00 0.00000e+00 1.48000e+02\n",
            "  2.76600e+03 1.02720e+04 6.30000e+01 8.00000e+00 1.00000e+01 0.00000e+00\n",
            "  2.00000e+00 0.00000e+00 0.00000e+00 0.00000e+00 2.20000e+01 0.00000e+00\n",
            "  0.00000e+00 0.00000e+00 0.00000e+00 2.39000e+02]\n",
            " [4.70000e+02 2.19000e+02 2.00000e+00 0.00000e+00 8.10000e+01 0.00000e+00\n",
            "  7.00000e+00 4.40000e+01 4.57180e+04 8.90000e+01 1.56000e+02 0.00000e+00\n",
            "  2.46100e+03 0.00000e+00 0.00000e+00 0.00000e+00 1.58000e+02 0.00000e+00\n",
            "  9.00000e+00 0.00000e+00 0.00000e+00 3.50300e+03]\n",
            " [1.17000e+02 8.00000e+01 3.00000e+00 0.00000e+00 7.00000e+00 9.00000e+00\n",
            "  1.61000e+02 7.70000e+01 1.36000e+02 2.73100e+03 2.92000e+02 0.00000e+00\n",
            "  1.51000e+02 0.00000e+00 1.50000e+01 0.00000e+00 6.41000e+02 5.00000e+00\n",
            "  4.00000e+00 0.00000e+00 0.00000e+00 7.40000e+01]\n",
            " [3.60000e+01 3.00000e+00 0.00000e+00 0.00000e+00 5.00000e+00 0.00000e+00\n",
            "  2.10000e+01 4.00000e+00 7.00000e+01 6.00000e+00 1.14060e+04 0.00000e+00\n",
            "  1.00000e+00 1.00000e+00 0.00000e+00 0.00000e+00 1.33000e+02 0.00000e+00\n",
            "  2.00000e+00 1.00000e+00 0.00000e+00 8.00000e+01]\n",
            " [1.30000e+01 1.00000e+00 1.00000e+00 0.00000e+00 8.00000e+00 0.00000e+00\n",
            "  2.00000e+00 0.00000e+00 2.10000e+01 0.00000e+00 1.20000e+01 0.00000e+00\n",
            "  4.40000e+01 0.00000e+00 0.00000e+00 1.00000e+00 2.00000e+00 0.00000e+00\n",
            "  0.00000e+00 0.00000e+00 0.00000e+00 2.50000e+01]\n",
            " [3.33000e+02 1.10000e+01 1.00000e+00 0.00000e+00 1.43000e+02 0.00000e+00\n",
            "  3.00000e+00 0.00000e+00 1.61800e+03 1.10000e+01 7.00000e+00 0.00000e+00\n",
            "  2.90522e+05 0.00000e+00 9.00000e+00 3.00000e+00 2.00000e+00 2.00000e+00\n",
            "  0.00000e+00 1.10000e+01 0.00000e+00 2.78000e+02]\n",
            " [0.00000e+00 0.00000e+00 0.00000e+00 0.00000e+00 0.00000e+00 1.80000e+01\n",
            "  2.39000e+02 1.33000e+02 4.00000e+00 0.00000e+00 1.30000e+01 0.00000e+00\n",
            "  0.00000e+00 8.44000e+02 0.00000e+00 0.00000e+00 3.00000e+00 0.00000e+00\n",
            "  0.00000e+00 0.00000e+00 0.00000e+00 5.10000e+01]\n",
            " [1.00000e+00 1.25000e+02 1.00000e+00 0.00000e+00 2.60000e+01 0.00000e+00\n",
            "  1.20000e+01 1.00000e+00 3.30000e+01 6.20000e+01 0.00000e+00 0.00000e+00\n",
            "  8.20000e+01 0.00000e+00 2.15900e+03 0.00000e+00 7.60000e+01 0.00000e+00\n",
            "  0.00000e+00 0.00000e+00 0.00000e+00 1.02700e+03]\n",
            " [3.40000e+01 2.00000e+00 0.00000e+00 0.00000e+00 2.00000e+01 0.00000e+00\n",
            "  3.00000e+00 0.00000e+00 4.80000e+01 0.00000e+00 1.00000e+00 0.00000e+00\n",
            "  1.00000e+01 0.00000e+00 0.00000e+00 5.57000e+02 0.00000e+00 0.00000e+00\n",
            "  0.00000e+00 0.00000e+00 0.00000e+00 5.30000e+01]\n",
            " [0.00000e+00 2.00000e+00 0.00000e+00 0.00000e+00 3.00000e+00 0.00000e+00\n",
            "  1.13000e+02 6.00000e+00 3.80000e+01 1.00000e+01 8.80000e+01 0.00000e+00\n",
            "  1.00000e+00 0.00000e+00 0.00000e+00 0.00000e+00 1.14810e+04 3.00000e+00\n",
            "  0.00000e+00 0.00000e+00 0.00000e+00 2.23000e+02]\n",
            " [9.40000e+01 0.00000e+00 0.00000e+00 0.00000e+00 4.50000e+01 0.00000e+00\n",
            "  0.00000e+00 0.00000e+00 3.40000e+01 0.00000e+00 0.00000e+00 0.00000e+00\n",
            "  6.90000e+01 0.00000e+00 0.00000e+00 0.00000e+00 0.00000e+00 4.00000e+01\n",
            "  0.00000e+00 0.00000e+00 0.00000e+00 7.00000e+00]\n",
            " [1.10000e+02 1.10000e+01 0.00000e+00 0.00000e+00 2.60000e+01 0.00000e+00\n",
            "  1.00000e+00 6.60000e+01 1.51000e+02 6.00000e+00 2.06000e+02 0.00000e+00\n",
            "  2.00000e+01 7.00000e+00 0.00000e+00 0.00000e+00 1.00000e+00 0.00000e+00\n",
            "  3.78000e+02 2.00000e+00 0.00000e+00 2.30000e+01]\n",
            " [6.90000e+01 1.00000e+01 0.00000e+00 0.00000e+00 4.00000e+00 0.00000e+00\n",
            "  2.00000e+00 3.00000e+00 1.50000e+01 1.10000e+01 2.10000e+02 0.00000e+00\n",
            "  8.00000e+00 0.00000e+00 0.00000e+00 0.00000e+00 8.00000e+00 0.00000e+00\n",
            "  0.00000e+00 4.80000e+01 0.00000e+00 6.10000e+01]\n",
            " [0.00000e+00 0.00000e+00 0.00000e+00 0.00000e+00 0.00000e+00 0.00000e+00\n",
            "  0.00000e+00 0.00000e+00 0.00000e+00 0.00000e+00 0.00000e+00 0.00000e+00\n",
            "  0.00000e+00 0.00000e+00 0.00000e+00 0.00000e+00 0.00000e+00 0.00000e+00\n",
            "  0.00000e+00 0.00000e+00 0.00000e+00 0.00000e+00]\n",
            " [5.00000e+00 2.48000e+02 0.00000e+00 0.00000e+00 1.60000e+01 3.00000e+00\n",
            "  4.70000e+01 2.42000e+02 5.34000e+02 5.00000e+00 8.50000e+01 0.00000e+00\n",
            "  5.60000e+01 1.30000e+01 0.00000e+00 0.00000e+00 2.47000e+02 0.00000e+00\n",
            "  0.00000e+00 0.00000e+00 0.00000e+00 2.16950e+04]]\n",
            "IoU for class 1 is: 0.882392406463623\n",
            "IoU for class 2 is: 0.4931703805923462\n",
            "IoU for class 3 is: 0.030131826177239418\n",
            "IoU for class 4 is: 0.004878048785030842\n",
            "IoU for class 5 is: 0.22410358488559723\n",
            "IoU for class 6 is: 0.6524274945259094\n",
            "IoU for class 7 is: 0.9777814745903015\n",
            "IoU for class 8 is: 0.6615146994590759\n",
            "IoU for class 9 is: 0.7906542420387268\n",
            "IoU for class 10 is: 0.5605500936508179\n",
            "IoU for class 11 is: 0.830433189868927\n",
            "IoU for class 12 is: 0.0\n",
            "IoU for class 13 is: 0.9750369191169739\n",
            "IoU for class 14 is: 0.615160346031189\n",
            "IoU for class 15 is: 0.591668963432312\n",
            "IoU for class 16 is: 0.7104591727256775\n",
            "IoU for class 17 is: 0.8406677842140198\n",
            "IoU for class 18 is: 0.13245032727718353\n",
            "IoU for class 19 is: 0.3624161183834076\n",
            "IoU for class 20 is: 0.09856262803077698\n",
            "IoU for class 21 is: 0\n",
            "IoU for class 22 is: 0.7140505909919739\n",
            "IoUs for all classes:  [0.8823924, 0.49317038, 0.030131826, 0.004878049, 0.22410358, 0.6524275, 0.9777815, 0.6615147, 0.79065424, 0.5605501, 0.8304332, 0.0, 0.9750369, 0.61516035, 0.59166896, 0.7104592, 0.8406678, 0.13245033, 0.36241612, 0.09856263, 0, 0.7140506]\n"
          ]
        }
      ],
      "source": [
        "import numpy as np\n",
        "\n",
        "# To calculate IOU for each class...\n",
        "values = np.array(IOU_keras.get_weights()).reshape(n_classes, n_classes)\n",
        "print(values)\n",
        "\n",
        "# Calculate IoU for each class\n",
        "iou_per_class = []\n",
        "for i in range(n_classes):\n",
        "    intersection = values[i, i]\n",
        "    union = np.sum(values[i, :]) + np.sum(values[:, i]) - intersection\n",
        "    iou = intersection / union if union != 0 else 0\n",
        "    iou_per_class.append(iou)\n",
        "    print(f\"IoU for class {i+1} is: {iou}\")\n",
        "\n",
        "# Optionally, you can print all IoUs at once\n",
        "print(\"IoUs for all classes: \", iou_per_class)\n"
      ]
    },
    {
      "cell_type": "code",
      "execution_count": 27,
      "metadata": {
        "colab": {
          "base_uri": "https://localhost:8080/",
          "height": 373
        },
        "id": "3zdF7S64TNEv",
        "outputId": "7e09c7dc-335c-4547-e47e-613b3739684f"
      },
      "outputs": [
        {
          "name": "stdout",
          "output_type": "stream",
          "text": [
            "1/1 [==============================] - 2s 2s/step\n"
          ]
        },
        {
          "data": {
            "image/png": "[encoded data removed]",
            "text/plain": [
              "<Figure size 1200x800 with 3 Axes>"
            ]
          },
          "metadata": {},
          "output_type": "display_data"
        }
      ],
      "source": [
        "import random\n",
        "\n",
        "test_img_number = random.randint(0, len(X_test)-1)\n",
        "test_img = X_test[test_img_number]\n",
        "ground_truth = y_test[test_img_number]\n",
        "test_img_input = np.expand_dims(test_img, 0)\n",
        "prediction = (model.predict(test_img_input))\n",
        "predicted_img = np.argmax(prediction, axis=3)[0,:,:]\n",
        "\n",
        "plt.figure(figsize=(12, 8))\n",
        "plt.subplot(231)\n",
        "plt.title('Testing Image')\n",
        "plt.imshow(test_img[:,:,0], cmap='gray')\n",
        "plt.subplot(232)\n",
        "plt.title('Testing Label')\n",
        "plt.imshow(ground_truth[:,:,0], cmap='jet')\n",
        "plt.subplot(233)\n",
        "plt.title('Prediction on test image')\n",
        "plt.imshow(predicted_img, cmap='jet')\n",
        "plt.show()"
      ]
    },
    {
      "cell_type": "markdown",
      "metadata": {
        "id": "qQ7c6Hw-Dmzd"
      },
      "source": [
        "# Results  ☕\n",
        "Based on the results of our UNet model experiment for masked and RGB images, we can draw several encouraging conclusions:\n",
        "\n",
        "### Training and Validation Accuracy\n",
        "- **Training Accuracy**: The yellow line representing training accuracy shows a consistent upward trend, quickly reaching a high value close to 1.0 and remaining stable. This indicates that our model has effectively learned the features of the training dataset.\n",
        "- **Validation Accuracy**: The red line for validation accuracy exhibits some fluctuations in the early epochs, which is expected as the model adjusts its parameters. However, it steadily improves over time and stabilizes at a high accuracy level. This progression is a strong indicator that the model is effectively generalizing from the training data to unseen validation data.\n",
        "\n",
        "### Training and Validation Loss\n",
        "- **Training Loss**: The training loss starts low and remains low and stable throughout the training process. This is consistent with the high training accuracy and confirms that the model is fitting the training data well.\n",
        "- **Validation Loss**: Initially, the validation loss is quite high, but it dramatically decreases within the first few epochs and then stabilizes.\n",
        "\n",
        "### Conclusion\n",
        "- **Model Performance**: The high final validation accuracy and the low validation loss suggest that the model is performing well.\n",
        "\n",
        "Overall, these results are promising and demonstrate the success of our UNet model in accurately learning and generalizing the task of image segmentation. The high final accuracy and low loss metrics validate the effectiveness of our approach.\n",
        "\n",
        "The Mean IoU score of 0.53 reflects a successful initial training of the UNet model on masked and RGB images. The model has demonstrated its capability to learn and generalize the segmentation task effectively."
      ]
    },
    {
      "cell_type": "markdown",
      "metadata": {
        "id": "yqg9wiOSE9ts"
      },
      "source": [
        "### MUHAMMED EFE İNCİR "
      ]
    }
  ],
  "metadata": {
    "accelerator": "GPU",
    "colab": {
      "gpuType": "T4",
      "provenance": []
    },
    "kernelspec": {
      "display_name": "Python 3",
      "name": "python3"
    },
    "language_info": {
      "name": "python"
    }
  },
  "nbformat": 4,
  "nbformat_minor": 0
}
